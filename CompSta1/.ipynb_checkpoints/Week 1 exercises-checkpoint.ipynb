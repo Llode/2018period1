{
 "cells": [
  {
   "cell_type": "markdown",
   "metadata": {},
   "source": [
    "University of Helsinki, Department of Mathematics and Statistics  \n",
    "MAST32001 Computational Statistics I, Autumn 2018  \n",
    "Antti Honkela  \n",
    "\n",
    "# Week 1 exercises"
   ]
  },
  {
   "cell_type": "code",
   "execution_count": null,
   "metadata": {},
   "outputs": [],
   "source": [
    "%matplotlib inline\n",
    "import numpy as np\n",
    "import numpy.random as npr\n",
    "import matplotlib.pyplot as plt"
   ]
  },
  {
   "cell_type": "markdown",
   "metadata": {},
   "source": [
    "## 1. Input ranges for overflow and underflow\n",
    "\n",
    "i. Write a program to find the largest integer for which exp() over double precision floating point numbers (float64) returns a finite value.\n",
    "\n",
    "ii. The logistic function $ \\phi(x) = \\frac{1}{1 + \\exp(-x)} $ is often used to map the real line to probabilities in the range [0, 1], for example in logistic regression. For reals, the equation $ \\phi(x) = 1 $ has no solution, but the same is not true for floating point numbers on a computer. Write a program to determine the smallest integer $ x $ for which $ \\phi(x) =_F 1$ when using double precision floating point (float64) arithmetic.\n",
    "\n",
    "(Note: \"Write a program\" means you should not try out all values manually, but program the computer to find the solution.)"
   ]
  },
  {
   "cell_type": "code",
   "execution_count": 52,
   "metadata": {},
   "outputs": [
    {
     "name": "stdout",
     "output_type": "stream",
     "text": [
      "709.0\n",
      "0.5\n",
      "37\n"
     ]
    }
   ],
   "source": [
    "import numpy as np\n",
    "x = np.float64(1)\n",
    "while(np.exp(x) != np.inf):\n",
    "    if(np.exp(x+1) == np.inf):\n",
    "        break\n",
    "    x = x+1\n",
    "print(x)\n",
    "\n",
    "y = 0\n",
    "\n",
    "def func(y):\n",
    "    z = np.float64(1)/(np.float64(1)+np.float64(np.exp(-y)))\n",
    "    return z\n",
    "\n",
    "t=func(y)\n",
    "print(t)\n",
    "while(t != np.float64(1)):\n",
    "    y = y+1\n",
    "    t = func(y)\n",
    "print(y)"
   ]
  },
  {
   "cell_type": "markdown",
   "metadata": {},
   "source": [
    "## 2. Numerical computation of binomial probabilities\n",
    "\n",
    "Write a computer program to compute sums of binomial probabilities:\n",
    "$$ f(l, u, n, p) = \\sum_{i=l}^u \\binom{n}{i} p^i (1-p)^{n-i}. $$\n",
    "Use it to compute\n",
    "\n",
    "i. $ f(0, 5, 10, 0.25) = \\sum_{i=0}^{5} \\binom{10}{i} 0.25^i 0.75^{10-i} $\n",
    "\n",
    "ii. $ f(10, 20, 20, 0.25) = \\sum_{i=10}^{20} \\binom{20}{i} 0.25^i 0.75^{20-i} $\n",
    "\n",
    "iii. $ f(40, 60, 100, 0.25) = \\sum_{i=40}^{60} \\binom{100}{i} 0.25^i 0.75^{100-i} $\n",
    "\n",
    "iv. $ f(75, 100, 100, 0.25) = \\sum_{i=75}^{100} \\binom{100}{i} 0.25^i 0.75^{100-i} $\n"
   ]
  },
  {
   "cell_type": "code",
   "execution_count": 1,
   "metadata": {},
   "outputs": [
    {
     "name": "stdout",
     "output_type": "stream",
     "text": [
      "0.9802722930908203\n",
      "0.01386441694376117\n",
      "0.0006865922079343078\n",
      "1.435085273801797e-25\n"
     ]
    }
   ],
   "source": [
    "import scipy.special\n",
    "import numpy as np\n",
    "\n",
    "def binprob(l,u,n,p):\n",
    "    x = 0\n",
    "    iii = np.arange(l, u+1)\n",
    "    for i in iii:\n",
    "        x = x + scipy.special.binom(n,i)*np.power(p,i)*np.power((1-p),(n-i))\n",
    "    return x\n",
    "\n",
    "f1 = binprob(0,5,10,0.25)\n",
    "f2 = binprob(10,20,20,0.25)\n",
    "f3 = binprob(40,60,100,0.25)\n",
    "f4 = binprob(75,100,100,0.25)\n",
    "\n",
    "print(f1)\n",
    "print(f2)\n",
    "print(f3)\n",
    "print(f4)"
   ]
  },
  {
   "cell_type": "markdown",
   "metadata": {},
   "source": [
    "## 3. Numerical evaluation of multivariate normal probabilities\n",
    "\n",
    "Consider the $d$-variate normal distribution $\\mathcal{N}(x;\\; \\mu, \\Sigma)$ with the log-probability density\n",
    "$$ \\ln p(x;\\; \\mu, \\Sigma) = -\\frac{d}{2} \\ln(2 \\pi) - \\frac{1}{2} \\ln |\\det \\Sigma| - \\frac{1}{2} (x - \\mu)^T \\Sigma^{-1} (x - \\mu). $$\n",
    "Let $\\mu = \\begin{pmatrix}0 \\\\ 0\\end{pmatrix}$, $\\Sigma = \\begin{pmatrix}2^2 & 2\\rho \\\\ 2\\rho & 1\\end{pmatrix}$.\n",
    "\n",
    "Evaluate the following probabilities:\n",
    "\n",
    "i. $ \\ln p( \\begin{pmatrix}0 \\\\ 0\\end{pmatrix} ; \\; \\mu, \\Sigma), $ when $\\rho = 0.8$\n",
    "\n",
    "ii. $ \\ln p( \\begin{pmatrix}0 \\\\ 0\\end{pmatrix} ; \\; \\mu, \\Sigma), $ when $\\rho = 0.999$\n",
    "\n",
    "iii. $ \\ln p( \\begin{pmatrix}1 \\\\ 1\\end{pmatrix} ; \\; \\mu, \\Sigma), $ when $\\rho = 0.999$\n",
    "\n",
    "iv. $ \\ln p( \\begin{pmatrix}1 \\\\ 1\\end{pmatrix} ; \\; \\mu, \\Sigma), $ when $\\rho = -0.999$"
   ]
  },
  {
   "cell_type": "code",
   "execution_count": 82,
   "metadata": {},
   "outputs": [
    {
     "name": "stdout",
     "output_type": "stream",
     "text": [
      "-2.0201986232033\n",
      "0.5765298647626529\n",
      "-62.204860830585844\n",
      "-561.9547357680613\n"
     ]
    }
   ],
   "source": [
    "import scipy.special\n",
    "import numpy as np\n",
    "\n",
    "d=2\n",
    "mu = mu = np.array([0,0])[np.newaxis]\n",
    "x0 = mu\n",
    "x1 = np.array([1,1])[np.newaxis]\n",
    "\n",
    "\n",
    "def initSigma(p, d):\n",
    "    sigma = np.array([np.power(2,2),2*p,2*p,1]).reshape(d,d)\n",
    "    #print('sigma')\n",
    "    #print(sigma)\n",
    "    return sigma\n",
    "\n",
    "def logdetsig(L, d):\n",
    "    sum = 0\n",
    "    for j in range(d):\n",
    "        sum = sum+np.log(L[j,j])\n",
    "    #print('determinantti')\n",
    "    #print(2*sum)\n",
    "    return 2*sum\n",
    "\n",
    "def calcLnd(x, mu, d, L, det):\n",
    "    arr = (x-mu).T\n",
    "    #print('x-mu')\n",
    "    #print(arr)\n",
    "    z =  scipy.linalg.solve_triangular(L, arr, lower=True)\n",
    "    z = np.linalg.norm(z)**2\n",
    "    #print('solved')\n",
    "    #print(z)\n",
    "    res = -0.5*d*np.log(2*np.pi) - 0.5*det - 0.5*z\n",
    "    return res\n",
    "\n",
    "def LND(x, mu, p):\n",
    "    sigma = initSigma(p,d)\n",
    "    L = np.linalg.cholesky(sigma)\n",
    "    det = logdetsig(L,d)\n",
    "    res = calcLnd(x,mu,d,L,det)\n",
    "    return res\n",
    "\n",
    "i = LND(mu,mu, 0.8)\n",
    "ii = LND(mu,mu,0.999)\n",
    "iii = LND(x1,mu, 0.999)\n",
    "iv = LND(x1,mu,-0.999)\n",
    "\n",
    "print(i)\n",
    "print(ii)\n",
    "print(iii)\n",
    "print(iv)"
   ]
  },
  {
   "cell_type": "markdown",
   "metadata": {},
   "source": [
    "## 4. Rejection sampling of Beta(2, 3)\n",
    "\n",
    "Write a programme to draw samples from the Beta(2, 3) distribution\n",
    "$ p(x) = 12 x (1-x)^2, \\quad 0 \\le x \\le 1 $  \n",
    "using the uniform distribution on the interval (0, 1) as the proposal distribution $q(x)$.\n",
    "\n",
    "Remember that you need to find a constant $M$ such that $p(x) \\le M q(x)$ for all $x$. Plotting the function $p(x)/q(x)$ is a good way to start looking for one.\n",
    "\n",
    "Plot a normed histogram of your samples together with the density to check that they match.\n",
    "\n",
    "Draw at least 10000 samples from the distribution and report your estimate of $ \\mathrm{E}[x^5] $ for $ x \\sim \\mathrm{Beta}(2, 3)$.\n",
    "\n",
    "NB: Please report the actual value you obtain to Moodle, not your guess of the true value. Values within the expected Monte Carlo error will be accepted as correct."
   ]
  },
  {
   "cell_type": "code",
   "execution_count": 24,
   "metadata": {},
   "outputs": [
    {
     "name": "stdout",
     "output_type": "stream",
     "text": [
      "sample [0.41468072]\n",
      "psample [0.7159236]\n",
      "0.04754810864767954\n"
     ]
    },
    {
     "data": {
      "image/png": "[encoded data removed]",
      "text/plain": [
       "<Figure size 432x288 with 2 Axes>"
      ]
     },
     "metadata": {},
     "output_type": "display_data"
    },
    {
     "name": "stderr",
     "output_type": "stream",
     "text": [
      "C:\\ProgramData\\Anaconda3\\lib\\site-packages\\matplotlib\\axes\\_axes.py:6462: UserWarning: The 'normed' kwarg is deprecated, and has been replaced by the 'density' kwarg.\n",
      "  warnings.warn(\"The 'normed' kwarg is deprecated, and has been \"\n"
     ]
    },
    {
     "data": {
      "image/png": "[encoded data removed]",
      "text/plain": [
       "<Figure size 432x288 with 1 Axes>"
      ]
     },
     "metadata": {},
     "output_type": "display_data"
    },
    {
     "data": {
      "image/png": "[encoded data removed]",
      "text/plain": [
       "<Figure size 432x288 with 1 Axes>"
      ]
     },
     "metadata": {},
     "output_type": "display_data"
    },
    {
     "data": {
      "image/png": "[encoded data removed]",
      "text/plain": [
       "<Figure size 432x288 with 2 Axes>"
      ]
     },
     "metadata": {},
     "output_type": "display_data"
    }
   ],
   "source": [
    "import scipy.special\n",
    "import numpy as np\n",
    "import numpy.random as npr\n",
    "import matplotlib.pyplot as plt\n",
    "from scipy.stats import uniform\n",
    "from sklearn.preprocessing import normalize\n",
    "\n",
    "npr.seed(2349678)\n",
    "\n",
    "def RejectionSampler(f_pdf, g_pdf, g_sample, M, N):\n",
    "    i = 0\n",
    "    x = np.zeros(N)\n",
    "    while i < N:\n",
    "        x_prop = g_sample()\n",
    "        u = npr.uniform(0,1)\n",
    "        #x_prop = npr.randint(0,N)\n",
    "\n",
    "        if(u*M*g_pdf(x_prop) < f_pdf(x_prop)):\n",
    "            x[i] = x_prop\n",
    "            i += 1\n",
    "    return x\n",
    "\n",
    "def p(x):\n",
    "    return 12*x*(1-x)**2\n",
    " \n",
    "def q(x):\n",
    "    return np.ndarray(1)\n",
    "\n",
    "def sample():\n",
    "    return npr.random(1)\n",
    "\n",
    "N=10000\n",
    "t = np.linspace(0, 1, N)\n",
    "M=np.max(p(x)/q(x))\n",
    "\n",
    "print('sample ' + str(sample()))\n",
    "print('psample ' + str(p(sample())))\n",
    "res = RejectionSampler(p, q, sample, M, N)\n",
    "print(np.mean(res**5))\n",
    "\n",
    "plt.figure(11)\n",
    "plt.subplot(211)\n",
    "plt.plot(t,p(t), 'k')\n",
    "plt.subplot(212)\n",
    "plt.plot(t,qq(t), 'k')\n",
    "plt.show()\n",
    "\n",
    "plt.figure(12)\n",
    "plt.subplot(211)\n",
    "plt.plot(t,p(t)/q(t), 'r')\n",
    "\n",
    "plt.figure(13)\n",
    "plt.subplot(211)\n",
    "plt.plot(t,res, 'b')\n",
    "\n",
    "fig, ax = plt.subplots(1, 2)\n",
    "ax[0].plot(t, p(t) / (M*q(t)))\n",
    "ax[0].set_title('$f(x) / (M \\cdot g(x))$')\n",
    "ax[1].hist(res, 100, normed=True)\n",
    "ax[1].plot(t, p(t), 'g')\n",
    "ax[1].set_title('samples')\n",
    "plt.show()\n"
   ]
  },
  {
   "cell_type": "markdown",
   "metadata": {},
   "source": [
    "## 5. Rejection sampling of a Gaussian with Laplace"
   ]
  },
  {
   "cell_type": "markdown",
   "metadata": {},
   "source": [
    "Consider the standard Laplace(0, 1) distribution defined by\n",
    "$ q(x) = 1/2 \\exp(- | x | ) $, and the standard normal distribution defined by\n",
    "$ p(x) = \\frac{1}{\\sqrt{2 \\pi}} \\exp( - \\frac{1}{2} x^2 )$.\n",
    "\n",
    "1. Write a program to draw samples from the Laplace(0, 1) distribution. (Hint: transformation considered on Lecture 2.) Test your program by comparing the normed histogram of the samples with the density.\n",
    "2. Design a method to draw samples from the standard normal using the standard Laplace distribution as the proposal. (Hint: you need to find a constant $M$ such that $p(x) \\le M q(x)$ for all $x$. Plotting the function $p(x)/q(x)$ is again useful for looking for one.)\n",
    "3. Use 10000 samples to compute the expectation $ E[x^4] $ for $ x $ following the standard normal distribution.\n",
    "4. Assuming the underlying uniform random generator uses full 53 bits of precision of float64, what is the largest value the rejection sampling method could in theory generate? Compare this with the value for Box-Muller transform computed on Lecture 2."
   ]
  },
  {
   "cell_type": "code",
   "execution_count": 79,
   "metadata": {},
   "outputs": [
    {
     "name": "stderr",
     "output_type": "stream",
     "text": [
      "C:\\ProgramData\\Anaconda3\\lib\\site-packages\\ipykernel_launcher.py:40: DeprecationWarning: object of type <class 'float'> cannot be safely interpreted as an integer.\n"
     ]
    },
    {
     "name": "stdout",
     "output_type": "stream",
     "text": [
      "M 68.4286333078124\n",
      "10.742404472213897\n"
     ]
    },
    {
     "data": {
      "image/png": "[encoded data removed]",
      "text/plain": [
       "<Figure size 432x288 with 1 Axes>"
      ]
     },
     "metadata": {},
     "output_type": "display_data"
    },
    {
     "name": "stderr",
     "output_type": "stream",
     "text": [
      "C:\\ProgramData\\Anaconda3\\lib\\site-packages\\matplotlib\\axes\\_axes.py:6462: UserWarning: The 'normed' kwarg is deprecated, and has been replaced by the 'density' kwarg.\n",
      "  warnings.warn(\"The 'normed' kwarg is deprecated, and has been \"\n"
     ]
    },
    {
     "data": {
      "image/png": "[encoded data removed]",
      "text/plain": [
       "<Figure size 432x288 with 2 Axes>"
      ]
     },
     "metadata": {},
     "output_type": "display_data"
    },
    {
     "name": "stdout",
     "output_type": "stream",
     "text": [
      "0.5\n",
      "0.5\n"
     ]
    }
   ],
   "source": [
    "import scipy.special\n",
    "import numpy as np\n",
    "import numpy.random as npr\n",
    "import matplotlib.pyplot as plt\n",
    "from scipy.stats import uniform\n",
    "from sklearn.preprocessing import normalize\n",
    "\n",
    "npr.seed(2349678)\n",
    "\n",
    "def RejectionSampler(f_pdf, g_pdf, g_sample, M, N):\n",
    "    print('M ' + str(M))\n",
    "    i = 0\n",
    "    x = np.zeros(N)\n",
    "    while i < N:\n",
    "        x_prop = g_sample()\n",
    "        u = npr.uniform(0,1)\n",
    "        if(u*M*g_pdf(x_prop) < f_pdf(x_prop)):\n",
    "            x[i] = x_prop\n",
    "            i += 1\n",
    "    return x\n",
    "\n",
    "def laplace(x):\n",
    "    return 0.5*np.exp(-np.abs(x))\n",
    "\n",
    "def normpdf(x):\n",
    "    return 1/np.sqrt(2*np.pi)*np.exp(-0.5*x**2)\n",
    "\n",
    "def p(x):\n",
    "    return laplace(x)\n",
    " \n",
    "def q(x):\n",
    "    return normpdf(x)\n",
    "\n",
    "def sample():\n",
    "    return npr.randn()\n",
    "\n",
    "N=10000\n",
    "linrange = 4\n",
    "t = np.linspace(-linrange,linrange, N)\n",
    "m = np.linspace(-2,2,N**2.1)\n",
    "M=np.max(p(t)/q(t))\n",
    "#M=3\n",
    "\n",
    "\n",
    "#print('sample ' + str(sample()))\n",
    "#print('psample ' + str(p(sample())))\n",
    "res = RejectionSampler(p, q, sample, M, N)\n",
    "print(np.mean(res**4))\n",
    "\n",
    "plt.figure(11)\n",
    "plt.subplot(211)\n",
    "plt.plot(t,p(t), 'k')\n",
    "plt.plot(t,M*q(t), 'r')\n",
    "plt.show()\n",
    "\n",
    "fig, ax = plt.subplots(1, 2)\n",
    "ax[0].plot(t, p(t) / (M*q(t)))\n",
    "ax[0].set_title('$f(x) / (M \\cdot g(x))$')\n",
    "ax[1].hist(res, 100, normed=True)\n",
    "ax[1].plot(t, p(t), 'g')\n",
    "ax[1].set_title('samples')\n",
    "plt.show()\n",
    "print(np.max(p(m)))\n",
    "print(laplace(0))\n",
    "\n",
    "#In theory the maximum value the rejection sampler can output sit the maximum value of the target function.\n",
    "#So in this case, max(laplace(0,1)) = 0.5 <<< NOOOPE\n",
    "#More generally argmax_[x_prop](max(u|u<1)*M*max(f_pdf(x_prop)))"
   ]
  },
  {
   "cell_type": "code",
   "execution_count": 82,
   "metadata": {},
   "outputs": [
    {
     "name": "stdout",
     "output_type": "stream",
     "text": [
      "5) 8.571674348652905\n"
     ]
    }
   ],
   "source": [
    "print(\"5)\", np.sqrt(-2*np.log(2**-53)))"
   ]
  },
  {
   "cell_type": "code",
   "execution_count": null,
   "metadata": {},
   "outputs": [],
   "source": []
  }
 ],
 "metadata": {
  "kernelspec": {
   "display_name": "Python 3",
   "language": "python",
   "name": "python3"
  },
  "language_info": {
   "codemirror_mode": {
    "name": "ipython",
    "version": 3
   },
   "file_extension": ".py",
   "mimetype": "text/x-python",
   "name": "python",
   "nbconvert_exporter": "python",
   "pygments_lexer": "ipython3",
   "version": "3.6.5"
  }
 },
 "nbformat": 4,
 "nbformat_minor": 1
}
