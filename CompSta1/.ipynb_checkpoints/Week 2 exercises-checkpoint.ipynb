{
 "cells": [
  {
   "cell_type": "markdown",
   "metadata": {},
   "source": [
    "University of Helsinki, Department of Mathematics and Statistics  \n",
    "MAST32001 Computational Statistics I, Spring 2018  \n",
    "Antti Honkela  \n",
    "\n",
    "# Week 2 exercises"
   ]
  },
  {
   "cell_type": "markdown",
   "metadata": {},
   "source": [
    "## 1. Permutation testing\n",
    "\n",
    "We will use permutation testing to study if the mother's age (age, below or at least 26) affects the birth weight (bwt) of their babies. We will use the absolute difference in the means as the test statistic. We will focus the analysis on full term pregnancies (gestation >= 273).\n",
    "\n",
    "Note: when reporting a $p$-value for $b$ more extreme tests out of $m$, use $p = (b+1)/(m+1)$ to avoid zero p-values. 50000 permutations will be sufficient for obtaining the required accuracy.\n",
    "\n",
    "1. Load the data set below. Test whether the birth weights (bwt) of babies with young (age < 26) and older (age >= 26) mothers are statistically significantly different using the difference of the means as the test statistic. Report the $p$-value you obtain in Moodle.\n",
    "2. Stratify the analysis by the variable smoking status of the mothers by splitting to separate smoker and non-smoker groups. Constrain the permutations so that only changes within each group are allowed. After the permutation merge the two groups back together to compute the means. Report the $p$-value you obtain in Moodle."
   ]
  },
  {
   "cell_type": "code",
   "execution_count": 1,
   "metadata": {},
   "outputs": [
    {
     "name": "stdout",
     "output_type": "stream",
     "text": [
      "    bwt  gestation  parity  age  height  weight  smoke\n",
      "0   120        284       0   27      62     100      0\n",
      "1   113        282       0   33      64     135      0\n",
      "2   128        279       0   28      64     115      1\n",
      "3   108        282       0   23      67     125      1\n",
      "4   136        286       0   25      62      93      0\n",
      "7   120        289       0   25      62     125      0\n",
      "8   143        299       0   30      66     136      1\n",
      "9   140        351       0   27      68     120      0\n",
      "10  144        282       0   32      64     124      1\n",
      "11  141        279       0   23      63     128      1\n",
      "pFunktio  0.052685000646563666\n",
      "t oma  -1.9423661130819316\n",
      "t_val  [-1.94236611]\n",
      "pXf  0.026206489250117225\n",
      "smoker mean  7.040909090909096\n",
      "p-value: 0.5066098678026439\n"
     ]
    }
   ],
   "source": [
    "import pandas as pd\n",
    "import numpy as np\n",
    "import numpy.random as npr\n",
    "import scipy.stats as sst\n",
    "\n",
    "npr.seed(1345)\n",
    "# Load the data set\n",
    "babies_full = pd.read_csv(\"http://www.helsinki.fi/~ahonkela/teaching/compstats1/babies.txt\", sep='\\t')\n",
    "\n",
    "# Pick a subset\n",
    "babies1 = babies_full.iloc[(babies_full['gestation']>=273).values]\n",
    "babiesYoung = babies1.query('age<26')\n",
    "babiesOld = babies1.query('age>=26')\n",
    "\n",
    "smoker = babies1.query('smoke>0')\n",
    "nonSmoker = babies1.query('smoke<1')\n",
    "\n",
    "#print(babies1.head(10))\n",
    "\n",
    "X1 = babiesYoung['bwt'].mean()\n",
    "X2 = babiesOld['bwt'].mean()\n",
    "t = np.abs(X1-X2)\n",
    "s1 = np.var(babiesYoung['bwt'])\n",
    "s2 = np.var(babiesOld['bwt'])\n",
    "N1 = len(babiesYoung.index)\n",
    "N2 = len(babiesOld.index)\n",
    "\n",
    "def sTest(X1,X2,s1,s2,N1,N2):\n",
    "    return (X1-X2)/np.sqrt((s1/N1)+(s2/N2))\n",
    "\n",
    "tX, pX = sst.ttest_ind(babiesYoung['bwt'], babiesOld['bwt'], equal_var=False)\n",
    "tXf = sTest(X1,X2,s1,s2,N1,N2)\n",
    "print('pFunktio ', pX)\n",
    "print('t oma ', tXf)\n",
    "df = N1+N2 -2\n",
    "pXf = sst.t.cdf(tXf,df=df)\n",
    "t_val = sst.t.ppf([pXf], df)\n",
    "print('t_val ', t_val)\n",
    "print('pXf ', pXf)\n",
    "\n",
    "# oldSmoker = babiesOld.query('smoke=1')\n",
    "# oldNonsmoker = babiesOld.query('smoke=0')\n",
    "# youngSmoker = babiesYoung.query('smoke=1')\n",
    "# youngNonsmoker = babiesYoung.query('smoke=0')\n",
    "\n",
    "N_perm = 50000\n",
    "\n",
    "\n",
    "truediff_smoke = np.abs(smoker['bwt'].mean() - nonSmoker['bwt'].mean())\n",
    "\n",
    "print('smoker mean ', truediff_smoke)\n",
    "\n",
    "meandiffs = np.zeros(N_perm)\n",
    "for i in range(N_perm):\n",
    "    z = smoker.sample(n=20)\n",
    "    #print(z['bwt'])\n",
    "    zz =  nonSmoker.sample(n=20)\n",
    "    meandiffs[i] = np.abs(z['bwt'].mean() - zz['bwt'].mean())\n",
    "\n",
    "#print(meandiffs)\n",
    "print('p-value:', (np.sum(truediff_smoke <= meandiffs)+1)/(len(meandiffs)+1))"
   ]
  },
  {
   "cell_type": "markdown",
   "metadata": {},
   "source": [
    "## 2. Bootstrap confidence intervals on data statistics\n",
    "\n",
    "In this exercise we use bootstrap to estimate confidence intervals for various quantities. (Using 1000 bootstrap samples will give you enough accuracy assuming everything is correctly done.)\n",
    "\n",
    "1. Use bootstrap to estimate the central 95% confidence interval for the mean of 'bwt' in the full data set loaded in Problem 1. Report the width of the interval in Moodle.\n",
    "2. Use bootstrap to estimate the central 95% confidence interval for the mean of 'bwt' in the smaller subset of the data set used in Problem 1. Report the width of the interval in Moodle.\n",
    "3. Use bootstrap to estimate the central 95% confidence interval for the correlation coefficient of 'gestation' and 'age' in the full data set loaded in Problem 1. What does this tell about the relation between the duration of the pregnancy and the age of the mother? Report the bounds of the interval in Moodle.\n",
    "4. Use bootstrap to estimate the central 95% confidence interval for the correlation coefficient of 'gestation' and 'age' in the smaller subset used in Problem 1. What does this tell about the relation between the duration of the pregnancy and the age of the mother? Report the bounds of the interval in Moodle.\n",
    "\n",
    "Hint: remember that the size of the bootstrap sample is always the same as the size of the original data set."
   ]
  },
  {
   "cell_type": "code",
   "execution_count": 4,
   "metadata": {
    "scrolled": true
   },
   "outputs": [
    {
     "name": "stdout",
     "output_type": "stream",
     "text": [
      "bootstrap interval: [118.57123838 120.62554945]\n",
      "interval width:  2.0543110735418537\n",
      "1. bootstrap interval: [118.5433432 120.6239011]\n",
      "interval width:  2.0805579036348263\n",
      "bootstrap interval: [122.57958428 124.67104214]\n",
      "interval width:  2.091457858769914\n",
      "2. bootstrap interval: [122.59083144 124.63442483]\n",
      "interval width:  2.0435933940774618\n",
      "3. bootstrap interval: [-0.10796613  0.00499416]\n",
      "interval width:  0.11296029758576719\n",
      "4. bootstrap interval: [-0.09303774  0.03640723]\n",
      "interval width:  0.12944496924853782\n"
     ]
    }
   ],
   "source": [
    "import numpy as np\n",
    "import numpy.random as npr\n",
    "import pandas as pd\n",
    "import scipy.stats as sst\n",
    "\n",
    "npr.seed(1345)\n",
    "# Load the data set\n",
    "babies_full = pd.read_csv(\"http://www.helsinki.fi/~ahonkela/teaching/compstats1/babies.txt\", sep='\\t')\n",
    "\n",
    "bwt = babies_full['bwt']\n",
    "\n",
    "N = 1000\n",
    "N_bwt = len(bwt)\n",
    "\n",
    "def bootstrapMeans(data, n):\n",
    "    bootstrap_means = np.array([np.mean(npr.choice(data, replace=True, size=n)) for i in range(N)])\n",
    "    print('bootstrap interval:', np.percentile(bootstrap_means, [2.5, 97.5]))\n",
    "    ival1, ival2 = np.percentile(bootstrap_means, [2.5, 97.5])\n",
    "    ival_width = abs(ival1-ival2)\n",
    "    print('interval width: ', ival_width)\n",
    "\n",
    "bootstrapMeans(bwt, N_bwt)\n",
    "\n",
    "bootstrap_means = np.array([np.mean(npr.choice(bwt, replace=True, size=N_bwt)) for i in range(N)])\n",
    "print('1. bootstrap interval:', np.percentile(bootstrap_means, [2.5, 97.5]))\n",
    "ival1, ival2 = np.percentile(bootstrap_means, [2.5, 97.5])\n",
    "ival_width = abs(ival1-ival2)\n",
    "print('interval width: ', ival_width)\n",
    "\n",
    "babies1 = babies_full.iloc[(babies_full['gestation']>=273).values]\n",
    "bwt1 = babies1['bwt']\n",
    "N_bwt1 = len(bwt1)\n",
    "\n",
    "bootstrapMeans(bwt1, N_bwt1)\n",
    "\n",
    "bootstrap_means1 = np.array([np.mean(npr.choice(bwt1, replace=True, size=N_bwt1)) for i in range(N)])\n",
    "print('2. bootstrap interval:', np.percentile(bootstrap_means1, [2.5, 97.5]))\n",
    "ival1, ival2 = np.percentile(bootstrap_means1, [2.5, 97.5])\n",
    "ival_width = abs(ival1-ival2)\n",
    "print('interval width: ', ival_width)\n",
    "\n",
    "gestation = babies_full['gestation']\n",
    "age = babies_full['age']\n",
    "N_gestation = len(gestation)\n",
    "correlation_interval = np.zeros(N)\n",
    "for i in range(N):\n",
    "    indices = npr.choice(range(N_gestation), replace=True, size=N_gestation)\n",
    "    correlation_interval[i] = np.corrcoef(gestation.values[indices], age.values[indices])[0,1]\n",
    "\n",
    "print('3. bootstrap interval:', np.percentile(correlation_interval, [2.5, 97.5]))\n",
    "ival1, ival2 = np.percentile(correlation_interval, [2.5, 97.5])\n",
    "ival_width = abs(ival1-ival2)\n",
    "print('interval width: ', ival_width)\n",
    "\n",
    "gestation = babies1['gestation']\n",
    "age = babies1['age']\n",
    "N_gestation = len(gestation)\n",
    "correlation_interval = np.zeros(N)\n",
    "for i in range(N):\n",
    "    indices = npr.choice(range(N_gestation), replace=True, size=N_gestation)\n",
    "    correlation_interval[i] = np.corrcoef(gestation.values[indices], age.values[indices])[0,1]\n",
    "\n",
    "print('4. bootstrap interval:', np.percentile(correlation_interval, [2.5, 97.5]))\n",
    "ival1, ival2 = np.percentile(correlation_interval, [2.5, 97.5])\n",
    "ival_width = abs(ival1-ival2)\n",
    "print('interval width: ', ival_width)"
   ]
  },
  {
   "cell_type": "markdown",
   "metadata": {},
   "source": [
    "## 3. Bootstrap confidence intervals on parameter estimates\n",
    "\n",
    "In this task, we will use bootstrap to obtain confidence intervals on maximum likelihood parameter estimates for linear regression models. We will apply simple case resampling, i.e. resampling the individuals and then fitting the model using the data $(x_i, y_i)$ from these individuals. There are alternative methods that may work better when the data are limited, but in our case there are enough observations so that this will not be a problem. 1000 bootstrap samples will again give you enough accuracy.\n",
    "\n",
    "Linear regression fit to scalar $x_i, y_i$ involves fitting the model\n",
    "$$ y_i = \\alpha + \\beta x_i + \\epsilon_i, $$\n",
    "where $\\beta$ is the regression coefficient and $\\alpha$ is the intercept. Assuming $\\epsilon_i \\sim N(0, \\sigma^2)$, the log-likelihood of the model is\n",
    "$$ \\log p(Y | X, \\alpha, \\beta) = \\sum_{i=1}^n \\log p(y_i | x_i, \\alpha, \\beta)\n",
    "  = \\sum_{i=1}^n - \\frac{1}{2 \\sigma^2} (y_i - \\alpha - \\beta x_i)^2 + C, $$\n",
    "where $C$ is independent of $\\alpha, \\beta$. This is maximised when\n",
    "$$ \\hat{\\beta}= \\frac{\\sum_{i = 1}^n (x - \\bar{x})(y - \\bar{y}) }{ \\sum_{i = 1}^n (x - \\bar{x})^2} \\\\\n",
    "   \\hat{\\alpha} = \\bar{y} - \\hat{\\beta} \\bar{x},$$\n",
    "where $\\bar{x} = \\frac{1}{n} \\sum_{i = 1}^n x$ and $\\bar{y} = \\frac{1}{n} \\sum_{i = 1}^n y$.\n",
    "\n",
    "1. Implement the above linear regression model to predict 'gestation' ($y$) as a function of 'age' ($x$) in the full data set. Report the estimated $\\beta$ in Moodle.\n",
    "2. Use bootstrap to estimate the confidence interval of the regression coefficient $\\beta$ in the above model by resampling the individuals used to fit the model. Report the lower and upper bounds of the central 95% confidence interval of $\\beta$ in Moodle.\n"
   ]
  },
  {
   "cell_type": "code",
   "execution_count": null,
   "metadata": {},
   "outputs": [],
   "source": [
    "#%%\n",
    "import numpy as np\n",
    "import numpy.random as npr\n",
    "import pandas as pd\n",
    "import scipy.stats as sst\n",
    "import matplotlib.pyplot as plt\n",
    "\n",
    "npr.seed(1345)\n",
    "# Load the data set\n",
    "babies_full = pd.read_csv(\"http://www.helsinki.fi/~ahonkela/teaching/compstats1/babies.txt\", sep='\\t')\n",
    "\n",
    "N=1000\n",
    "\n",
    "y = babies_full['gestation'].values\n",
    "x = babies_full['age'].values\n",
    "var = 1\n",
    "epsilon = npr.normal(0,var)\n",
    "\n",
    "def loglh(x,y,n,a,b,C,var):\n",
    "    res = 0\n",
    "    for i in range(n):\n",
    "        res = res + (-(1/2*var)*(y[i]-a-b*x[i])**2 + C)\n",
    "    return res\n",
    "\n",
    "def b_hat(x,y,a):\n",
    "    xmean = np.mean(x)\n",
    "    ymean = np.mean(y)\n",
    "    x2 = x-xmean\n",
    "    y2 = y-ymean\n",
    "    return (x2*y2)/(x2**2) * a\n",
    "\n",
    "plt.scatter(x,y)\n",
    "plt.plot(x,y)\n",
    "plt.show()\n",
    "\n",
    "print(b_hat(x,y,1))"
   ]
  },
  {
   "cell_type": "markdown",
   "metadata": {},
   "source": [
    "## 4. Density estimation\n",
    "\n",
    "1. Estimate the joint density of 'bwt' and 'age' in the full data set using kernel density estimation with a 2-dimensional Gaussian kernel\n",
    "$$ K_h(x) = \\frac{1}{2\\pi h^2} \\exp\\left( - \\frac{x_1^2 + x_2^2}{2 h^2} \\right) $$\n",
    "with $h=5$. Plot a 2D histogram of the data (`matplotlib.pyplot.hist2d`) and a contour plot of the estimated density. Report the value of the estimated density at point bwt=120, age=25 in Moodle.\n",
    "2. Use leave-one-out cross validation to find an optimal $h$ in the range `np.linspace(1.0, 10.0, 30)`. Report the value of $h$ and the value of the estimated density at bwt=120, age=25 in Moodle."
   ]
  },
  {
   "cell_type": "code",
   "execution_count": 24,
   "metadata": {
    "scrolled": true
   },
   "outputs": [
    {
     "name": "stdout",
     "output_type": "stream",
     "text": [
      "1183 7.74192859066709e-40\n"
     ]
    },
    {
     "data": {
      "image/png": "[encoded data removed]",
      "text/plain": [
       "<Figure size 432x288 with 1 Axes>"
      ]
     },
     "metadata": {},
     "output_type": "display_data"
    },
    {
     "name": "stdout",
     "output_type": "stream",
     "text": [
      "bwt 120 age 25  1.9878715171199938e-133\n"
     ]
    },
    {
     "data": {
      "text/plain": [
       "<matplotlib.axes._subplots.AxesSubplot at 0x21dfef2c780>"
      ]
     },
     "execution_count": 24,
     "metadata": {},
     "output_type": "execute_result"
    },
    {
     "data": {
      "image/png": "[encoded data removed]",
      "text/plain": [
       "<Figure size 432x288 with 1 Axes>"
      ]
     },
     "metadata": {},
     "output_type": "display_data"
    }
   ],
   "source": [
    "#%%\n",
    "import numpy as np\n",
    "import numpy.random as npr\n",
    "import pandas as pd\n",
    "import scipy.stats as sst\n",
    "import matplotlib.pyplot as plt\n",
    "import seaborn as sns\n",
    "\n",
    "npr.seed(1345)\n",
    "# Load the data set\n",
    "babies_full = pd.read_csv(\"http://www.helsinki.fi/~ahonkela/teaching/compstats1/babies.txt\", sep='\\t')\n",
    "bwt = babies_full['bwt'].values\n",
    "age = babies_full['age'].values\n",
    "\n",
    "def Kh(x1,x2):\n",
    "    first = 1/(2*np.pi*h**2)\n",
    "    second = np.exp(-(x1**2 + x2**2)/(2*h**2))\n",
    "    return first*second\n",
    "\n",
    "matrix = np.column_stack((bwt, age))\n",
    "h=5\n",
    "t = np.linspace(0.0,200.0,num=len(bwt))\n",
    "#plt.hist2d(bwt,age)\n",
    "Kres = Kh(age,bwt)\n",
    "matrix = np.column_stack((bwt, age, Kres))\n",
    "print(len(Kres), np.max(Kres))\n",
    "#print(Kres)\n",
    "plt.hist2d(bwt,age)\n",
    "plt.show()\n",
    "print('bwt 120 age 25 ', Kh(25,120))\n",
    "sns.kdeplot(bwt, age, kernel='gau')"
   ]
  },
  {
   "cell_type": "markdown",
   "metadata": {},
   "source": [
    "## 5. Cross validation for variable selection in linear regression\n",
    "\n",
    "Cross validation can be used for evaluating the out-of-sample predictive accuracy of models and feature selection. In this task we will study a subset of the birth weight data for old mothers ($\\text{age} \\ge 30$) and aim to predict the birth weight ('bwt', $y$) as a function of the duration of the pregnancy ('gestation', $x$). We will then evaluate the root mean squared error (RMSE)\n",
    "$$ RMSE(\\epsilon) = \\sqrt{\\frac{1}{n} \\sum_{i=1}^n \\epsilon_i^2} $$\n",
    "of the model.\n",
    "\n",
    "1. Use all data to fit the linear regression model and evaluate the RMSE of all the predictions. Report the value you obtain in Moodle.\n",
    "2. Use $k$-fold cross-validation with $k=20$ and estimate the RMSE of the test set predictions. Report the value you obtain in Moodle.\n",
    "3. Fit a multivariate linear regression model using 'age', 'gestation' and 'weight' as predictors. Report the value of the regression coefficient of 'weight' in Moodle.\n",
    "4. Evaluate the RMSE of the multivariate fit using LOO CV. Report the value you obtain in Moodle.\n",
    "\n",
    "Hint: Subtasks 1 and 2 use the linear regression model also used in Problem 3 while subtasks 3 and 4 use a multivariate version of linear regression. To form the multivariate linear regression model, let us consider the data as a matrix $\\mathbf{X}$ where each row is an observation and each column is a variable, and $\\mathbf{y}$ as a column vector of responses. We can incorporate the intercept $\\alpha$ in the same parameter vector $\\boldsymbol{\\beta}$ by\n",
    "$$ \\mathbf{y} = \\mathbf{X} \\boldsymbol{\\beta} + \\alpha \\mathbf{1} = \\begin{pmatrix} \\mathbf{X} & \\mathbf{1} \\end{pmatrix}\n",
    "\\begin{pmatrix} \\boldsymbol{\\beta} \\\\ \\alpha \\end{pmatrix} = \\mathbf{X'} \\boldsymbol{\\beta'}, $$\n",
    "i.e. by adding a column of all ones to the data matrix $\\mathbf{X}$. In what follows, we will use $\\mathbf{X}$ to denote the augmented data matrix and $\\boldsymbol{\\beta}$ to denote the corresponding augmented vector of regression coefficients.\n",
    "\n",
    "The maximum likelihood estimate of $\\boldsymbol{\\beta}$ for the multivariate model can be derived in a similar manner as in Problem 3. The result is\n",
    "$$ \\hat{\\boldsymbol{\\beta}} = (\\mathbf{X}^T \\mathbf{X})^{-1} \\mathbf{X}^T \\mathbf{y}. $$"
   ]
  },
  {
   "cell_type": "code",
   "execution_count": null,
   "metadata": {},
   "outputs": [],
   "source": [
    "import pandas as pd\n",
    "import numpy as np\n",
    "import numpy.random as npr\n",
    "\n",
    "# Load the data set\n",
    "babies_full = pd.read_csv(\"http://www.helsinki.fi/~ahonkela/teaching/compstats1/babies.txt\", sep='\\t')\n",
    "\n",
    "# Pick a subset\n",
    "babies5 = babies_full.loc[(babies_full['age']>=30).values,:]\n"
   ]
  }
 ],
 "metadata": {
  "kernelspec": {
   "display_name": "Python 3",
   "language": "python",
   "name": "python3"
  },
  "language_info": {
   "codemirror_mode": {
    "name": "ipython",
    "version": 3
   },
   "file_extension": ".py",
   "mimetype": "text/x-python",
   "name": "python",
   "nbconvert_exporter": "python",
   "pygments_lexer": "ipython3",
   "version": "3.6.5"
  }
 },
 "nbformat": 4,
 "nbformat_minor": 2
}
